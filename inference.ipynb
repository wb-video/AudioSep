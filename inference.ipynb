{
  "cells": [
    {
      "cell_type": "code",
      "execution_count": 2,
      "metadata": {
        "id": "0nr77CGXTwO1"
      },
      "outputs": [
        {
          "name": "stderr",
          "output_type": "stream",
          "text": [
            "Some weights of the model checkpoint at roberta-base were not used when initializing RobertaModel: ['lm_head.layer_norm.weight', 'lm_head.dense.bias', 'lm_head.decoder.weight', 'lm_head.layer_norm.bias', 'lm_head.bias', 'lm_head.dense.weight']\n",
            "- This IS expected if you are initializing RobertaModel from the checkpoint of a model trained on another task or with another architecture (e.g. initializing a BertForSequenceClassification model from a BertForPreTraining model).\n",
            "- This IS NOT expected if you are initializing RobertaModel from the checkpoint of a model that you expect to be exactly identical (initializing a BertForSequenceClassification model from a BertForSequenceClassification model).\n"
          ]
        },
        {
          "name": "stdout",
          "output_type": "stream",
          "text": [
            "Load AudioSep model from [checkpoint/audiosep_base_4M_steps.ckpt]\n"
          ]
        }
      ],
      "source": [
        "import torch\n",
        "from pipeline import build_audiosep, inference\n",
        "\n",
        "device = torch.device('cuda' if torch.cuda.is_available() else 'cpu')\n",
        "\n",
        "model = build_audiosep(\n",
        "      config_yaml='config/audiosep_base.yaml',\n",
        "      checkpoint_path=str('checkpoint/audiosep_base_4M_steps.ckpt'),\n",
        "      device=device)"
      ]
    },
    {
      "cell_type": "code",
      "execution_count": 13,
      "metadata": {},
      "outputs": [],
      "source": [
        "audio_file = '/Users/chris/Desktop/Whitebalance/Data/test-clips/_Crowd/hockey-chelsea-dagger-horn-002.wav'\n",
        "text = 'train horn, air horn, truck horn, french horn, vehicle horn, car horn, honking, foghorn, buzzer, siren'\n",
        "output_file='hockey-chelsea-dagger-horn-002_separated.wav'"
      ]
    },
    {
      "cell_type": "code",
      "execution_count": 14,
      "metadata": {},
      "outputs": [
        {
          "name": "stdout",
          "output_type": "stream",
          "text": [
            "Separate audio from [/Users/chris/Desktop/Whitebalance/Data/test-clips/_Crowd/hockey-chelsea-dagger-horn-002.wav] with textual query [train horn, air horn, truck horn, french horn, vehicle horn, car horn, honking, foghorn, buzzer, siren]\n",
            "Write separated audio to [hockey-chelsea-dagger-horn-002_separated.wav]\n",
            "The separated audio is saved to: 'hockey-chelsea-dagger-horn-002_separated.wav' file.\n"
          ]
        }
      ],
      "source": [
        "# AudioSep processes the audio at 32 kHz sampling rate\n",
        "inference(model, audio_file, text, output_file, device)\n",
        "print(f\"The separated audio is saved to: '{output_file}' file.\")"
      ]
    }
  ],
  "metadata": {
    "colab": {
      "provenance": []
    },
    "kernelspec": {
      "display_name": "Python 3",
      "name": "python3"
    },
    "language_info": {
      "codemirror_mode": {
        "name": "ipython",
        "version": 3
      },
      "file_extension": ".py",
      "mimetype": "text/x-python",
      "name": "python",
      "nbconvert_exporter": "python",
      "pygments_lexer": "ipython3",
      "version": "3.10.9"
    }
  },
  "nbformat": 4,
  "nbformat_minor": 0
}
